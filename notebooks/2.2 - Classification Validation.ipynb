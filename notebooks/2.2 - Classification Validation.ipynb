{
 "cells": [
  {
   "cell_type": "markdown",
   "metadata": {},
   "source": [
    "# Classification Model Validation\n",
    "Once we are able to work with data effectively and create models, we need a way to evaluate if these models are any good.  If the models are not performing well we will also need further details to make sure we can fix them properly.\n",
    "\n",
    "## Scoring\n",
    "It should be impossible to create a model that is never wrong, this is due to outliers in data, using a bad estimator (or poorly tuned estimator), or data just not following the rules of an algorithm.  To determine how good an estimator is we need to score its ability to make predictions.  We have a problem however, we need a way to give the model a test, but we need to know the answers to the test and the model can't see the answers during its training.  This would be analagous to you getting an old copy of one of my tests and memorizing it, even though you would do great on the test it wouldn't measure your knowledge of the material.\n",
    "\n",
    "Luckily the way we fix this problem isn't very complicated, we split the data into training data (used to fit the model) and testing data (used to validate the model).  After we train the model, we can make prediction on the test data and then compare the results to ground truth.  This ensures that any predictions the model makes are based on its understanding of the material, not memorizing the answers.  This does introduce one problem, we now have less data to train the model with! "
   ]
  },
  {
   "cell_type": "code",
   "execution_count": 1,
   "metadata": {
    "scrolled": true
   },
   "outputs": [
    {
     "name": "stdout",
     "output_type": "stream",
     "text": [
      "test score: 0.184\n"
     ]
    }
   ],
   "source": [
    "from sklearn.dummy import DummyClassifier\n",
    "from sklearn.datasets import make_classification\n",
    "\n",
    "model = DummyClassifier()\n",
    "X, y = make_classification(n_samples=1000, n_classes=5, n_informative=4)\n",
    "\n",
    "# create training and testing subsets\n",
    "X_train, X_test = X[:750], X[750:]\n",
    "y_train, y_test = y[:750], y[750:]\n",
    "\n",
    "# train the model\n",
    "model.fit(X_train, y_train)\n",
    "\n",
    "# use x to make predictions, compare these with y\n",
    "test_score = model.score(X_test, y_test)\n",
    "print(f'test score: {test_score}')"
   ]
  },
  {
   "cell_type": "markdown",
   "metadata": {},
   "source": [
    "You can treat this test just like a test you would take, look at the score above and see if you would be happy with it.  Another way to think about this is that guessing a coin flip is a 50-50 guess, we should be close to getting everything right (1.0) than to a coin flip (0.5).  This is somewhat arbitrary but we'll say anything greater than 0.75 is a 'good' score."
   ]
  },
  {
   "cell_type": "markdown",
   "metadata": {},
   "source": [
    "### Test Train Split\n",
    "In the previous example we manually split out data, sklearn comes with helper functions to create training and testing sets.  The train_test_split function returns your data split for you.  Typically during development we will specify a random_state which will give us the same random sample each time we run the script.  Something to watch for is the class balance per group, after splitting your data there is a chance that the number of labels will be drastically different for training and testing.  If you are working with a clasification problem you can specify the stratify argument, this will tell train_test_split to keep the labels evenly balanced between training and testing sets.\n",
    "\n",
    "* shuffle - if samples should be randomized\n",
    "* random_state - seed for random data sampling\n",
    "* test_size - how to split data, default is 0.75 train and 0.25 test\n",
    "* stratify - which feature to use for even distribution"
   ]
  },
  {
   "cell_type": "code",
   "execution_count": null,
   "metadata": {},
   "outputs": [
    {
     "name": "stdout",
     "output_type": "stream",
     "text": [
      "(750, 20)\n"
     ]
    }
   ],
   "source": [
    "from sklearn.model_selection import train_test_split\n",
    "\n",
    "X_train, X_test, y_train, y_test = train_test_split(X, y)\n",
    "print(X_train.shape)"
   ]
  },
  {
   "cell_type": "markdown",
   "metadata": {},
   "source": [
    "## Precision and Recall\n",
    "Just looking at the score for a classification estimator is useful, but it also not the entire picture.  The classification report generates additional metrics for your classifier that give a better idea of how it is actually performing.  One additional metric this report gives us is the score per label.  Perhaps our model has a good score overall (precision), but with one label is just can't get right (class balance perhaps?). \n",
    "\n",
    "A new metric the report gives us is the recall, this is how many labels did we predict out of the possible number of labels.  This metric is important when there is a specific label that want to identify all cases of.  If we are analyzing somebody's x-ray trying to detect malignant growths then we would definitely want to identify all 'malignant' labels, even if our model has worse overall precision. \n",
    "\n",
    "* precision - how often right (correct guesses / total guesses)\n",
    "* recall - number of labels found (correct guesses / number of possbible correct guesses)\n",
    "* f1  - mean of precision and recall\n",
    "* support - number of labels in data"
   ]
  },
  {
   "cell_type": "code",
   "execution_count": 4,
   "metadata": {},
   "outputs": [
    {
     "name": "stdout",
     "output_type": "stream",
     "text": [
      "             precision    recall  f1-score   support\n",
      "\n",
      "          0       0.56      0.65      0.60        48\n",
      "          1       0.39      0.71      0.50        42\n",
      "          2       0.55      0.65      0.59        51\n",
      "          3       0.76      0.36      0.49        61\n",
      "          4       0.72      0.44      0.55        48\n",
      "\n",
      "avg / total       0.61      0.55      0.55       250\n",
      "\n"
     ]
    }
   ],
   "source": [
    "from sklearn.metrics import classification_report\n",
    "from sklearn.neighbors import KNeighborsClassifier\n",
    "\n",
    "X, y = make_classification(n_samples=1000, n_classes=5, n_informative=4)\n",
    "X_train, X_test, y_train, y_test = train_test_split(X, y)\n",
    "\n",
    "model = KNeighborsClassifier()\n",
    "model.fit(X_train, y_train)\n",
    "\n",
    "print(classification_report(y_test, model.predict(X_test)))"
   ]
  },
  {
   "cell_type": "markdown",
   "metadata": {},
   "source": [
    "## Confusion Matrix\n",
    "In the classification report we were able to see the precision and recall of specific labels, though we couldn't see what the model predicted when it was wrong.  A confusion matrix shows the quality of a classifiers output by showing what the model picked when it was incorrect.  We show a confusion matrix with a seaborn heatmap and the confusion matrix function, each row/column correspond to a possible label.  Having high values on the diagonal indicate good predictive capabilities (when the correct label was 0 we picked 0, when it was 1 we picked 1, etc).  The confusion_matrix function takes in a ground truth and then a prediction for those values."
   ]
  },
  {
   "cell_type": "code",
   "execution_count": 6,
   "metadata": {},
   "outputs": [
    {
     "data": {
      "image/png": "[encoded data removed]",
      "text/plain": [
       "<Figure size 432x288 with 2 Axes>"
      ]
     },
     "metadata": {
      "needs_background": "light"
     },
     "output_type": "display_data"
    }
   ],
   "source": [
    "from sklearn.metrics import confusion_matrix\n",
    "from sklearn.neighbors import KNeighborsClassifier\n",
    "import seaborn as sns\n",
    "import matplotlib.pyplot as plt\n",
    "\n",
    "X, y = make_classification(n_samples=1000, n_classes=10, n_informative=5)\n",
    "\n",
    "model = KNeighborsClassifier()\n",
    "model.fit(X, y)\n",
    "\n",
    "cmat = confusion_matrix(y, model.predict(X))\n",
    "sns.heatmap(cmat, annot=True)\n",
    "plt.show()"
   ]
  },
  {
   "cell_type": "markdown",
   "metadata": {},
   "source": [
    "# Workflow\n",
    "There is not a strict blueprint for how to complete a machine learning problem, with varying data the workflow for each problem will be drastically different.  This general workflow can help, but shouldn't be strictly followed.  As the course progresses we will uncover more and transition from naive approaches to more robust.\n",
    "\n",
    "<td> <img src=\"images\\ml_workflow02.png\" alt=\"Drawing\" style=\"width:850px;\"/> </td>"
   ]
  },
  {
   "cell_type": "markdown",
   "metadata": {},
   "source": [
    "# OK\n",
    "Now we have a basic idea of the train test loop, machine learning is a cycle where you start simple and further refine your model based on validation.  There are actually still a few naive processes in place that we will further refine through the class.  "
   ]
  }
 ],
 "metadata": {
  "kernelspec": {
   "display_name": "base",
   "language": "python",
   "name": "python3"
  },
  "language_info": {
   "codemirror_mode": {
    "name": "ipython",
    "version": 3
   },
   "file_extension": ".py",
   "mimetype": "text/x-python",
   "name": "python",
   "nbconvert_exporter": "python",
   "pygments_lexer": "ipython3",
   "version": "3.8.8"
  }
 },
 "nbformat": 4,
 "nbformat_minor": 4
}
