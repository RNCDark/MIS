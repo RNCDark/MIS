{
 "cells": [
  {
   "cell_type": "markdown",
   "metadata": {},
   "source": [
    "# Regression Model Validation\n",
    "Once we are able to work with data effectively and create models, we need a way to evaluate if these models are any good.  If the models are not performing well we will also need further details to make sure we can fix them properly.\n",
    "\n",
    "## Residual Plot\n",
    "A residual plot is essentially a graph of where error occurs in a model (residual is another way to say error in this case).  To draw a residual plot we use the model's prediction for the x axis and the residual for the y axis.  By doing this we can examine a model's prediction and how much error it had for that prediction.  If a model is working well it will typically have the following characteristics.\n",
    "\n",
    "* symmetrically distributed\n",
    "* small range on the y axis\n",
    "* no clear patterns\n",
    "\n",
    "There are a few thing things we can try to fix a poorly performing regression model: input data should be normally distributed (scalers), we might need more features (feature engineering), or a non linear model (polynomial).\n",
    "\n",
    "In this example we have a good model, there is no shape to the residuals, the are centered around the line, and the range of y values is small (or is it, could a value of 1 ever be considered large?)."
   ]
  },
  {
   "cell_type": "code",
   "execution_count": 1,
   "metadata": {},
   "outputs": [
    {
     "data": {
      "image/png": "[encoded data removed]",
      "text/plain": [
       "<Figure size 432x288 with 1 Axes>"
      ]
     },
     "metadata": {
      "needs_background": "light"
     },
     "output_type": "display_data"
    }
   ],
   "source": [
    "from sklearn.linear_model import LinearRegression\n",
    "from sklearn.datasets import make_regression\n",
    "import matplotlib.pyplot as plt\n",
    "from sklearn.datasets import make_s_curve\n",
    "\n",
    "X, y = make_regression(n_samples=10, n_features=1, noise=1)\n",
    "\n",
    "regr = LinearRegression()\n",
    "regr.fit(X, y)\n",
    "\n",
    "preds = regr.predict(X)\n",
    "# order is important!  actual - predictions\n",
    "plt.scatter(preds, y-preds)\n",
    "plt.hlines(y=0, xmin=preds.min(), xmax=preds.max())\n",
    "plt.show()"
   ]
  },
  {
   "cell_type": "markdown",
   "metadata": {},
   "source": [
    "In this example there is clearly a shape to the error, this indicates that the data is a curve of some sort and we are trying to fit a line through it.  Another strange shape that can occur are straight lines, this typically happens when those samples consist of sparse data, or linearly increasing discrete data, or there is a perfect linear relationship between input and output data."
   ]
  },
  {
   "cell_type": "code",
   "execution_count": 2,
   "metadata": {},
   "outputs": [
    {
     "data": {
      "image/png": "[encoded data removed]",
      "text/plain": [
       "<Figure size 432x288 with 1 Axes>"
      ]
     },
     "metadata": {
      "needs_background": "light"
     },
     "output_type": "display_data"
    }
   ],
   "source": [
    "from sklearn.linear_model import LinearRegression\n",
    "import matplotlib.pyplot as plt\n",
    "from sklearn.datasets import make_s_curve\n",
    "\n",
    "X, y = make_s_curve()\n",
    "\n",
    "regr = LinearRegression()\n",
    "regr.fit(X, y)\n",
    "preds = regr.predict(X)\n",
    "\n",
    "plt.scatter(preds, y - preds)\n",
    "plt.hlines(y=0, xmin=preds.min(), xmax=preds.max())\n",
    "plt.show()"
   ]
  },
  {
   "cell_type": "markdown",
   "metadata": {},
   "source": [
    "Sometimes only part of the residuals are large, this still indicates a problem that we can fix.  In the example below it looks like some predications are very close, but as the size of the prediction grows the residuals also grow."
   ]
  },
  {
   "cell_type": "code",
   "execution_count": 3,
   "metadata": {},
   "outputs": [
    {
     "data": {
      "image/png": "[encoded data removed]",
      "text/plain": [
       "<Figure size 432x288 with 1 Axes>"
      ]
     },
     "metadata": {
      "needs_background": "light"
     },
     "output_type": "display_data"
    }
   ],
   "source": [
    "from sklearn.linear_model import LinearRegression\n",
    "import matplotlib.pyplot as plt\n",
    "from sklearn.datasets import make_s_curve\n",
    "import numpy as np\n",
    "\n",
    "X, y = make_regression(n_samples=50, n_features=1, noise=20)\n",
    "\n",
    "regr = LinearRegression()\n",
    "regr.fit(X, y)\n",
    "\n",
    "preds = regr.predict(X)\n",
    "y = np.where(y > 0, y * 5, y)\n",
    "plt.scatter(preds, y - preds)\n",
    "plt.hlines(y=0, xmin=preds.min(), xmax=preds.max())\n",
    "plt.show()"
   ]
  },
  {
   "cell_type": "markdown",
   "metadata": {},
   "source": [
    "The last type of error we'll look at are outliers.  In this example there is only a single large residual.  In cases like this just examine your model and see if the outlier is causing any bad performance.  If the outlier is not affecting the model it is safe to leave in, if it causing the model to misbehave then it is safe to just remove the sample."
   ]
  },
  {
   "cell_type": "code",
   "execution_count": null,
   "metadata": {},
   "outputs": [
    {
     "data": {
      "image/png": "[encoded data removed]",
      "text/plain": [
       "<Figure size 432x288 with 1 Axes>"
      ]
     },
     "metadata": {
      "needs_background": "light"
     },
     "output_type": "display_data"
    }
   ],
   "source": [
    "from sklearn.linear_model import LinearRegression\n",
    "import matplotlib.pyplot as plt\n",
    "from sklearn.datasets import make_s_curve\n",
    "\n",
    "X, y = make_regression(n_samples=50, n_features=1, noise=20)\n",
    "y[-1] = 999\n",
    "\n",
    "regr = LinearRegression()\n",
    "regr.fit(X, y)\n",
    "\n",
    "preds = regr.predict(X)\n",
    "plt.scatter(preds, y - preds)\n",
    "plt.hlines(y=0, xmin=preds.min(), xmax=preds.max())\n",
    "plt.show()"
   ]
  },
  {
   "cell_type": "markdown",
   "metadata": {},
   "source": [
    "Generally one of the following solutions will helps us fix any issues found with a residual plot.\n",
    "\n",
    "* normalizing features (typically input, but sometimes output as well)\n",
    "* creating a more complex model (adding features, such as feature interactions)\n",
    "* creating a polynomial model (perhaps the relationship is not linear)"
   ]
  },
  {
   "cell_type": "markdown",
   "metadata": {},
   "source": [
    "# Metrics\n",
    "The more robust our understanding of a model's performance is, the more likely we will be able to find and fix problems.  Examining the score and residual plot of a model is a good start, but we will often need to look at additional metrics as well (just as with the classification report).  In sklearn's metric namespace there are many tools we can use to further examine the error a model, here are a few common ones when dealing with regression problems.\n",
    "\n",
    "* r2 - how well predictions match the ground truth (score returns this)\n",
    "* MSE - mean squared error, as this value is squared larger residuals will affect MSE more\n",
    "* MAE - mean absolute error, treats all error ranges the same\n",
    "* MAPE - mean error as a percent, not implemented in sklearn but can be calculated easily enough (beware divide by 0)\n",
    "     * mean(abs((truth - predictions) / truth)) * 100"
   ]
  },
  {
   "cell_type": "code",
   "execution_count": 13,
   "metadata": {},
   "outputs": [
    {
     "name": "stdout",
     "output_type": "stream",
     "text": [
      "r2: 0.7519093200539206\n",
      "MSE: 425.4171786754759\n",
      "MAE: 15.560554634500713\n"
     ]
    }
   ],
   "source": [
    "from sklearn.metrics import r2_score, mean_squared_error, mean_absolute_error\n",
    "from sklearn.datasets import make_regression\n",
    "from sklearn.linear_model import LinearRegression\n",
    "\n",
    "X, y = make_regression(n_samples=50, n_features=1, noise=20)\n",
    "model = LinearRegression()\n",
    "model.fit(X, y)\n",
    "pred = model.predict(X)\n",
    "\n",
    "print(f'r2: {r2_score(y, pred)}')\n",
    "print(f'MSE: {mean_squared_error(y, pred)}')\n",
    "print(f'MAE: {mean_absolute_error(y, pred)}')"
   ]
  },
  {
   "cell_type": "markdown",
   "metadata": {},
   "source": [
    "# Bias Variance Dilemma\n",
    "The error in a model can be broken down into different parts, bias and variance.  The bias in a model is what we have been thinking of as error up until now, how far off are predictions from ground truth.  The new way to think about error is variance, this is essentially how consistent the model is at making good predictions.  These two types of error are actually related, if we reduce bias we increase variance and vice versa, this is known as the bias variance dilemna.\n",
    "\n",
    "Imagine your're playing basketball, whenever you shoot the ball you always miss but you always hit the exact same spot (high bias, low variance).  Now imagine most of your shots get in, but when you miss the shots go wild (low bias, high variance).  Or you could just make every shot (low bias, low variance).\n",
    "\n",
    "## Detection\n",
    "Detection of bias / variance is actually pretty straight forward, all we have to do is add an extra to call to score passing the training data instead of the testing data.  If your model scores high on training data this means it understood its training, if the testing score is high that means it works well on data that its never seen before.\n",
    "\n",
    "* training score low, test score low - model is underfit\n",
    "    * model is too simple, add features, tune model (or different model), try boosting ensemble\n",
    "* training score high, test score low - model is overfit\n",
    "    * model is too complex, remove features, tune model (or different model), try bagging ensemble\n",
    "* training score high, test score high - model is working well\n",
    "    * celebrate!\n",
    "* low training score, high test score - typically not possible\n",
    "    * despair!\n",
    "    \n",
    "We can still use our threshold of 0.75 to separate good and bad scores, but how far apart do the train and test scores need to be before we consider the model overfit?  Well they will never be equal, so anything within a few points is acceptable.  Any difference less than 10 I would consider a minor overfit, anything more a major overfit."
   ]
  },
  {
   "cell_type": "code",
   "execution_count": 6,
   "metadata": {},
   "outputs": [
    {
     "name": "stdout",
     "output_type": "stream",
     "text": [
      "train: 0.9330\n",
      "test: 0.8869\n"
     ]
    }
   ],
   "source": [
    "from sklearn.datasets import make_regression\n",
    "from sklearn.model_selection import train_test_split\n",
    "from sklearn.linear_model import LinearRegression\n",
    "\n",
    "X, y = make_regression(n_samples=100, n_features=1, noise=10, random_state=100)\n",
    "X_train, X_test, y_train, y_test = train_test_split(X, y)\n",
    "\n",
    "lr = LinearRegression()\n",
    "lr.fit(X_train, y_train)\n",
    "\n",
    "train_score = lr.score(X_train, y_train)\n",
    "test_score = lr.score(X_test, y_test)\n",
    "print(f'train: {train_score:.4f}')\n",
    "print(f'test: {test_score:.4f}')"
   ]
  },
  {
   "cell_type": "markdown",
   "metadata": {},
   "source": [
    "### Examples\n",
    "If a model is not complex enough it cannot capture the shape of the data, if the model is too complex it has memorized the shape of the training data.\n",
    "\n",
    "<img src=\"images\\bias_variance.png\" width=800/> </td>"
   ]
  },
  {
   "cell_type": "markdown",
   "metadata": {},
   "source": [
    "# Workflow\n",
    "There is not a strict blueprint for how to complete a machine learning problem, with varying data the workflow for each problem will be drastically different.  This general workflow can help, but shouldn't be strictly followed.  As the course progresses we will uncover more and transition from naive approaches to more robust.\n",
    "\n",
    "<td> <img src=\"images\\ml_workflow02.png\" alt=\"Drawing\" style=\"width:850px;\"/> </td>"
   ]
  },
  {
   "cell_type": "markdown",
   "metadata": {},
   "source": [
    "# OK\n",
    "So know we know how to predict labels and continous data using different learning algorithms, we also explored better ways to score our estimators in order to find the best algorithm for our data.  Creating and training a model is only half of the work, we will need to analyze different metrics and visualizations to determine how best to improve the model."
   ]
  }
 ],
 "metadata": {
  "kernelspec": {
   "display_name": "base",
   "language": "python",
   "name": "python3"
  },
  "language_info": {
   "codemirror_mode": {
    "name": "ipython",
    "version": 3
   },
   "file_extension": ".py",
   "mimetype": "text/x-python",
   "name": "python",
   "nbconvert_exporter": "python",
   "pygments_lexer": "ipython3",
   "version": "undefined.undefined.undefined"
  }
 },
 "nbformat": 4,
 "nbformat_minor": 4
}
